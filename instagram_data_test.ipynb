{
 "cells": [
  {
   "cell_type": "code",
   "execution_count": 10,
   "metadata": {},
   "outputs": [
    {
     "name": "stdout",
     "output_type": "stream",
     "text": [
      "158K Followers, 12 Following, 499 Posts \n"
     ]
    }
   ],
   "source": [
    "import pandas as pd\n",
    "from bs4 import BeautifulSoup\n",
    "import requests\n",
    "\n",
    "URL = \"https://www.instagram.com/gt_eon/\"\n",
    "\n",
    "def parse_data(data):\n",
    "    data = {}\n",
    "    s = s.split(\"-\")[0]\n",
    "    s = s.split\n",
    "    data[\"Followers\"] = s[0]\n",
    "    data[\"Following\"] = s[2]\n",
    "    data[\"Post\"] = s[4]\n",
    "    return data\n",
    "\n",
    "def scrap_data(username):\n",
    "    r = requests.get(URL.format(username))\n",
    "    soup = BeautifulSoup(r.text, \"html.parser\")\n",
    "    meta = soup.find(\"meta\", property = \"og:description\")\n",
    "    s = meta.attrs[\"content\"]\n",
    "    s = s.split(\"-\")[0]\n",
    "    print(s)\n",
    "\n",
    "if __name__ == \"__main__\":\n",
    "    username = \"gt_eon\"\n",
    "    scrap_data(username)"
   ]
  }
 ],
 "metadata": {
  "kernelspec": {
   "display_name": "Python 3",
   "language": "python",
   "name": "python3"
  },
  "language_info": {
   "codemirror_mode": {
    "name": "ipython",
    "version": 3
   },
   "file_extension": ".py",
   "mimetype": "text/x-python",
   "name": "python",
   "nbconvert_exporter": "python",
   "pygments_lexer": "ipython3",
   "version": "3.11.5"
  },
  "orig_nbformat": 4
 },
 "nbformat": 4,
 "nbformat_minor": 2
}
