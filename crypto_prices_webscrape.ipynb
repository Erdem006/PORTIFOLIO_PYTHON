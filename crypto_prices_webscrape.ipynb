{
 "cells": [
  {
   "cell_type": "code",
   "execution_count": 1,
   "metadata": {},
   "outputs": [],
   "source": [
    "import pandas as pd\n",
    "from bs4 import BeautifulSoup\n",
    "import requests\n",
    "\n",
    "url = \"https://coinmarketcap.com/\"\n",
    "page = requests.get(url).text\n",
    "doc = BeautifulSoup(page, 'html.parser')\n",
    "\n",
    "body = doc.tbody\n",
    "trs = body.contents\n",
    "\n",
    "data = []\n",
    "\n",
    "# Initialize a counter for the 'Number' column\n",
    "number = 1\n",
    "\n",
    "for tr in trs[:10]:\n",
    "    name, price = tr.contents[2:4]\n",
    "    fixed_name = name.p.string\n",
    "    fixed_price = price.a.string\n",
    "    \n",
    "    # Append data with 'Number', 'Name', and 'Price'\n",
    "    data.append([number, fixed_name, fixed_price])\n",
    "    \n",
    "    # Increment the counter for the next row\n",
    "    number += 1\n",
    "\n",
    "# Create a pandas DataFrame from the collected data\n",
    "df = pd.DataFrame(data, columns=['Number', 'Name', 'Price'])\n",
    "\n",
    "# Save the DataFrame to a CSV file\n",
    "df.to_csv(r'C:\\Users\\erdem\\OneDrive\\Masaüstü\\crypto_prices.csv', index=False)"
   ]
  }
 ],
 "metadata": {
  "kernelspec": {
   "display_name": "Python 3",
   "language": "python",
   "name": "python3"
  },
  "language_info": {
   "codemirror_mode": {
    "name": "ipython",
    "version": 3
   },
   "file_extension": ".py",
   "mimetype": "text/x-python",
   "name": "python",
   "nbconvert_exporter": "python",
   "pygments_lexer": "ipython3",
   "version": "3.11.5"
  },
  "orig_nbformat": 4
 },
 "nbformat": 4,
 "nbformat_minor": 2
}
