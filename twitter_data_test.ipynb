{
 "cells": [
  {
   "cell_type": "code",
   "execution_count": 7,
   "metadata": {},
   "outputs": [
    {
     "ename": "TimeoutException",
     "evalue": "Message: \nStacktrace:\n\tGetHandleVerifier [0x00007FF6DC377D12+55474]\n\t(No symbol) [0x00007FF6DC2E77C2]\n\t(No symbol) [0x00007FF6DC19E0EB]\n\t(No symbol) [0x00007FF6DC1DEBAC]\n\t(No symbol) [0x00007FF6DC1DED2C]\n\t(No symbol) [0x00007FF6DC219F77]\n\t(No symbol) [0x00007FF6DC1FF19F]\n\t(No symbol) [0x00007FF6DC217EF2]\n\t(No symbol) [0x00007FF6DC1FEF33]\n\t(No symbol) [0x00007FF6DC1D3D41]\n\t(No symbol) [0x00007FF6DC1D4F84]\n\tGetHandleVerifier [0x00007FF6DC6DB762+3609346]\n\tGetHandleVerifier [0x00007FF6DC731A80+3962400]\n\tGetHandleVerifier [0x00007FF6DC729F0F+3930799]\n\tGetHandleVerifier [0x00007FF6DC413CA6+694342]\n\t(No symbol) [0x00007FF6DC2F2218]\n\t(No symbol) [0x00007FF6DC2EE484]\n\t(No symbol) [0x00007FF6DC2EE5B2]\n\t(No symbol) [0x00007FF6DC2DEE13]\n\tBaseThreadInitThunk [0x00007FF81AF77344+20]\n\tRtlUserThreadStart [0x00007FF81CAE26B1+33]\n",
     "output_type": "error",
     "traceback": [
      "\u001b[1;31m---------------------------------------------------------------------------\u001b[0m",
      "\u001b[1;31mTimeoutException\u001b[0m                          Traceback (most recent call last)",
      "\u001b[1;32mc:\\Users\\erdem\\OneDrive\\Masaüstü\\Code\\PY\\twitter_data_test.ipynb Cell 1\u001b[0m line \u001b[0;36m2\n\u001b[0;32m     <a href='vscode-notebook-cell:/c%3A/Users/erdem/OneDrive/Masa%C3%BCst%C3%BC/Code/PY/twitter_data_test.ipynb#W0sZmlsZQ%3D%3D?line=20'>21</a>\u001b[0m next_button \u001b[39m=\u001b[39m WebDriverWait(driver, \u001b[39m10\u001b[39m)\u001b[39m.\u001b[39muntil(EC\u001b[39m.\u001b[39melement_to_be_clickable((By\u001b[39m.\u001b[39mXPATH, \u001b[39m\"\u001b[39m\u001b[39m//div[contains(@class, \u001b[39m\u001b[39m'\u001b[39m\u001b[39mcss-901oao r-1awozwy r-6koalj r-18u37iz r-16y2uox r-37j5jr r-a023e6 r-b88u0q r-1777fci r-rjixqe r-bcqeeo r-q4m81j r-qvutc0\u001b[39m\u001b[39m'\u001b[39m\u001b[39m)]\u001b[39m\u001b[39m\"\u001b[39m)))\u001b[39m.\u001b[39mclick()\n\u001b[0;32m     <a href='vscode-notebook-cell:/c%3A/Users/erdem/OneDrive/Masa%C3%BCst%C3%BC/Code/PY/twitter_data_test.ipynb#W0sZmlsZQ%3D%3D?line=21'>22</a>\u001b[0m time\u001b[39m.\u001b[39msleep(\u001b[39m2\u001b[39m)\n\u001b[1;32m---> <a href='vscode-notebook-cell:/c%3A/Users/erdem/OneDrive/Masa%C3%BCst%C3%BC/Code/PY/twitter_data_test.ipynb#W0sZmlsZQ%3D%3D?line=22'>23</a>\u001b[0m password \u001b[39m=\u001b[39m WebDriverWait(driver, \u001b[39m10\u001b[39;49m)\u001b[39m.\u001b[39;49muntil(EC\u001b[39m.\u001b[39;49melement_to_be_clickable((By\u001b[39m.\u001b[39;49mCSS_SELECTOR, \u001b[39m\"\u001b[39;49m\u001b[39minput[autocomplete = \u001b[39;49m\u001b[39m'\u001b[39;49m\u001b[39mpassword\u001b[39;49m\u001b[39m'\u001b[39;49m\u001b[39m]\u001b[39;49m\u001b[39m\"\u001b[39;49m)))\n\u001b[0;32m     <a href='vscode-notebook-cell:/c%3A/Users/erdem/OneDrive/Masa%C3%BCst%C3%BC/Code/PY/twitter_data_test.ipynb#W0sZmlsZQ%3D%3D?line=23'>24</a>\u001b[0m password\u001b[39m.\u001b[39mclear()\n\u001b[0;32m     <a href='vscode-notebook-cell:/c%3A/Users/erdem/OneDrive/Masa%C3%BCst%C3%BC/Code/PY/twitter_data_test.ipynb#W0sZmlsZQ%3D%3D?line=24'>25</a>\u001b[0m password\u001b[39m.\u001b[39msend_keys(\u001b[39m\"\u001b[39m\u001b[39m4yc4_S4NJ1\u001b[39m\u001b[39m\"\u001b[39m)\n",
      "File \u001b[1;32mc:\\Users\\erdem\\AppData\\Local\\Programs\\Python\\Python311\\Lib\\site-packages\\selenium\\webdriver\\support\\wait.py:95\u001b[0m, in \u001b[0;36mWebDriverWait.until\u001b[1;34m(self, method, message)\u001b[0m\n\u001b[0;32m     93\u001b[0m     \u001b[39mif\u001b[39;00m time\u001b[39m.\u001b[39mmonotonic() \u001b[39m>\u001b[39m end_time:\n\u001b[0;32m     94\u001b[0m         \u001b[39mbreak\u001b[39;00m\n\u001b[1;32m---> 95\u001b[0m \u001b[39mraise\u001b[39;00m TimeoutException(message, screen, stacktrace)\n",
      "\u001b[1;31mTimeoutException\u001b[0m: Message: \nStacktrace:\n\tGetHandleVerifier [0x00007FF6DC377D12+55474]\n\t(No symbol) [0x00007FF6DC2E77C2]\n\t(No symbol) [0x00007FF6DC19E0EB]\n\t(No symbol) [0x00007FF6DC1DEBAC]\n\t(No symbol) [0x00007FF6DC1DED2C]\n\t(No symbol) [0x00007FF6DC219F77]\n\t(No symbol) [0x00007FF6DC1FF19F]\n\t(No symbol) [0x00007FF6DC217EF2]\n\t(No symbol) [0x00007FF6DC1FEF33]\n\t(No symbol) [0x00007FF6DC1D3D41]\n\t(No symbol) [0x00007FF6DC1D4F84]\n\tGetHandleVerifier [0x00007FF6DC6DB762+3609346]\n\tGetHandleVerifier [0x00007FF6DC731A80+3962400]\n\tGetHandleVerifier [0x00007FF6DC729F0F+3930799]\n\tGetHandleVerifier [0x00007FF6DC413CA6+694342]\n\t(No symbol) [0x00007FF6DC2F2218]\n\t(No symbol) [0x00007FF6DC2EE484]\n\t(No symbol) [0x00007FF6DC2EE5B2]\n\t(No symbol) [0x00007FF6DC2DEE13]\n\tBaseThreadInitThunk [0x00007FF81AF77344+20]\n\tRtlUserThreadStart [0x00007FF81CAE26B1+33]\n"
     ]
    }
   ],
   "source": [
    "from selenium import webdriver\n",
    "from selenium.webdriver.chrome.service import Service\n",
    "from selenium.webdriver.support.wait import WebDriverWait\n",
    "from selenium.webdriver.common.keys import Keys\n",
    "from selenium.webdriver.common.by import By\n",
    "from selenium.webdriver.support import expected_conditions as EC\n",
    "import time\n",
    "import os\n",
    "\n",
    "serv_object = Service(executable_path = \"C:\\Program Files (x86)\\chromedriver.exe\")\n",
    "\n",
    "driver = webdriver.Chrome(service = serv_object)\n",
    "driver.implicitly_wait(10)\n",
    "driver.get(\"https://twitter.com/login\")\n",
    "\n",
    "username = WebDriverWait(driver, 10).until(EC.element_to_be_clickable((By.CSS_SELECTOR, \"input[autocomplete = 'username']\")))\n",
    "username.clear()\n",
    "time.sleep(2)\n",
    "username.send_keys(\"tftsanji@gmail.com\")\n",
    "time.sleep(2)\n",
    "next_button = WebDriverWait(driver, 10).until(EC.element_to_be_clickable((By.XPATH, \"//div[contains(@class, 'css-901oao r-1awozwy r-6koalj r-18u37iz r-16y2uox r-37j5jr r-a023e6 r-b88u0q r-1777fci r-rjixqe r-bcqeeo r-q4m81j r-qvutc0')]\"))).click()\n",
    "time.sleep(2)\n",
    "password = WebDriverWait(driver, 10).until(EC.element_to_be_clickable((By.CSS_SELECTOR, \"input[autocomplete = 'password']\")))\n",
    "password.clear()\n",
    "password.send_keys(\"4yc4_S4NJ1\")"
   ]
  }
 ],
 "metadata": {
  "kernelspec": {
   "display_name": "Python 3",
   "language": "python",
   "name": "python3"
  },
  "language_info": {
   "codemirror_mode": {
    "name": "ipython",
    "version": 3
   },
   "file_extension": ".py",
   "mimetype": "text/x-python",
   "name": "python",
   "nbconvert_exporter": "python",
   "pygments_lexer": "ipython3",
   "version": "3.11.5"
  },
  "orig_nbformat": 4
 },
 "nbformat": 4,
 "nbformat_minor": 2
}
